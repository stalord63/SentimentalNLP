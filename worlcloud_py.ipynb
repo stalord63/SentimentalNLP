{
  "nbformat": 4,
  "nbformat_minor": 0,
  "metadata": {
    "colab": {
      "name": "worlcloud.py",
      "provenance": [],
      "authorship_tag": "ABX9TyOOxwebUw3EYMMuih71MdNZ",
      "include_colab_link": true
    },
    "kernelspec": {
      "name": "python3",
      "display_name": "Python 3"
    },
    "language_info": {
      "name": "python"
    }
  },
  "cells": [
    {
      "cell_type": "markdown",
      "metadata": {
        "id": "view-in-github",
        "colab_type": "text"
      },
      "source": [
        "<a href=\"https://colab.research.google.com/github/stalord63/SentimentalNLP/blob/main/worlcloud_py.ipynb\" target=\"_parent\"><img src=\"https://colab.research.google.com/assets/colab-badge.svg\" alt=\"Open In Colab\"/></a>"
      ]
    },
    {
      "cell_type": "code",
      "metadata": {
        "colab": {
          "base_uri": "https://localhost:8080/"
        },
        "id": "koffcOvJJf8u",
        "outputId": "4042d110-2101-47a2-9e51-195efb7b8b53"
      },
      "source": [
        "print(\"hello\")"
      ],
      "execution_count": 1,
      "outputs": [
        {
          "output_type": "stream",
          "text": [
            "hello\n"
          ],
          "name": "stdout"
        }
      ]
    },
    {
      "cell_type": "code",
      "metadata": {
        "colab": {
          "base_uri": "https://localhost:8080/"
        },
        "id": "6A4OjEgGJkmG",
        "outputId": "c67b93bb-dc5b-489e-8abc-65697160e0f0"
      },
      "source": [
        "print(\"hello\")"
      ],
      "execution_count": 2,
      "outputs": [
        {
          "output_type": "stream",
          "text": [
            "hello\n"
          ],
          "name": "stdout"
        }
      ]
    },
    {
      "cell_type": "code",
      "metadata": {
        "id": "kHnj-QUnJ2wR"
      },
      "source": [
        "import tweepy\n",
        "from textblob import TextBlob\n",
        "\n",
        "\n",
        "import pandas as pd\n",
        "import numpy as np\n",
        "import re\n",
        "import matplotlib.pyplot as plt\n"
      ],
      "execution_count": 5,
      "outputs": []
    },
    {
      "cell_type": "code",
      "metadata": {
        "id": "QWGHvJkCLlKS"
      },
      "source": [
        "from wordcloud import WordCloud"
      ],
      "execution_count": 20,
      "outputs": []
    },
    {
      "cell_type": "code",
      "metadata": {
        "id": "WgJx3w1Zl6nR"
      },
      "source": [
        "consumerKey=\"cEot4sxnHWixSDObxMf5HoInN\"\n",
        "consumerSecret=\"TcnWQ9p0DPIW452Sf1cF1qIU5lFFBqMC6KDG8qOotNkETjk8An\"\n",
        "accessToken=\"3230336007-sXbbf5E1lxYh2MoRWGCSEKqX9q8ytJc9XPshVtD\"\n",
        "accessTokenSecret=\"yY4ppc5xfKptj8D8ZjNwd0P1FlfnUahT4riaL2FJIIPvF\""
      ],
      "execution_count": 22,
      "outputs": []
    },
    {
      "cell_type": "code",
      "metadata": {
        "id": "Lv5sFQKYxpGH"
      },
      "source": [
        "authenticate=tweepy.OAuthHandler(consumerKey,consumerSecret)\n",
        "authenticate.set_access_token(accessToken,accessTokenSecret)\n",
        "api=tweepy.API(authenticate,wait_on_rate_limit=True)"
      ],
      "execution_count": 23,
      "outputs": []
    },
    {
      "cell_type": "code",
      "metadata": {
        "id": "waxC3aZpy6GL"
      },
      "source": [
        "post=api.user_timeline(screen_name=\"BillGates\",count=100,lang=\"en\",tweet_mode=\"extended\")"
      ],
      "execution_count": 24,
      "outputs": []
    },
    {
      "cell_type": "code",
      "metadata": {
        "colab": {
          "base_uri": "https://localhost:8080/"
        },
        "id": "vvVps4vEzt_J",
        "outputId": "6456c9ff-e619-459d-988c-194f1ece052f"
      },
      "source": [
        "print(\"show 5 tweets\")\n",
        "i=1\n",
        "for tweet in post[0:5]:\n",
        "  print(str(i)+ ')'+ tweet.full_text+ '\\n')\n",
        "  i=i+1"
      ],
      "execution_count": 30,
      "outputs": [
        {
          "output_type": "stream",
          "text": [
            "show 5 tweets\n",
            "1)The persistence of countless Rotarians gives me hope that we can achieve a polio-free world. As they close the #Rotary21 Convention, I'd like to thank @Rotary for the continued partnership to #endpolio. https://t.co/sZ4dRiuiXk\n",
            "\n",
            "2)I'm almost always interested in books about American presidents, and I especially loved A Promised Land. It’s a fascinating look at what it’s like to steer a country through challenging times. https://t.co/RgpXbkOnDw\n",
            "\n",
            "3)This book gave me a deeper, more nuanced appreciation for the system that is at the core of humanity’s fight against COVID-19 and everything our foundation’s Global Health program is trying to do. https://t.co/uTUH19oKKc\n",
            "\n",
            "4)If you’re looking for a good book to read this summer, these are some of my favorites. https://t.co/e19FKzFFL1\n",
            "\n",
            "5)The @G7’s commitment to share 870M COVID-19 vaccine doses over the next year is welcome news - but time is not on our side. Vaccines must be delivered now to help control the pandemic everywhere and not disrupt the progress we've made. https://t.co/gWvonMax6n\n",
            "\n"
          ],
          "name": "stdout"
        }
      ]
    },
    {
      "cell_type": "code",
      "metadata": {
        "colab": {
          "base_uri": "https://localhost:8080/",
          "height": 206
        },
        "id": "9CG8DaED0Kj9",
        "outputId": "7761377a-a315-49b7-d72d-25dfdc36356a"
      },
      "source": [
        "df = pd.DataFrame( [tweet.full_text for tweet in post],columns=['Tweets'])\n",
        "df.head()"
      ],
      "execution_count": 33,
      "outputs": [
        {
          "output_type": "execute_result",
          "data": {
            "text/html": [
              "<div>\n",
              "<style scoped>\n",
              "    .dataframe tbody tr th:only-of-type {\n",
              "        vertical-align: middle;\n",
              "    }\n",
              "\n",
              "    .dataframe tbody tr th {\n",
              "        vertical-align: top;\n",
              "    }\n",
              "\n",
              "    .dataframe thead th {\n",
              "        text-align: right;\n",
              "    }\n",
              "</style>\n",
              "<table border=\"1\" class=\"dataframe\">\n",
              "  <thead>\n",
              "    <tr style=\"text-align: right;\">\n",
              "      <th></th>\n",
              "      <th>Tweets</th>\n",
              "    </tr>\n",
              "  </thead>\n",
              "  <tbody>\n",
              "    <tr>\n",
              "      <th>0</th>\n",
              "      <td>The persistence of countless Rotarians gives m...</td>\n",
              "    </tr>\n",
              "    <tr>\n",
              "      <th>1</th>\n",
              "      <td>I'm almost always interested in books about Am...</td>\n",
              "    </tr>\n",
              "    <tr>\n",
              "      <th>2</th>\n",
              "      <td>This book gave me a deeper, more nuanced appre...</td>\n",
              "    </tr>\n",
              "    <tr>\n",
              "      <th>3</th>\n",
              "      <td>If you’re looking for a good book to read this...</td>\n",
              "    </tr>\n",
              "    <tr>\n",
              "      <th>4</th>\n",
              "      <td>The @G7’s commitment to share 870M COVID-19 va...</td>\n",
              "    </tr>\n",
              "  </tbody>\n",
              "</table>\n",
              "</div>"
            ],
            "text/plain": [
              "                                              Tweets\n",
              "0  The persistence of countless Rotarians gives m...\n",
              "1  I'm almost always interested in books about Am...\n",
              "2  This book gave me a deeper, more nuanced appre...\n",
              "3  If you’re looking for a good book to read this...\n",
              "4  The @G7’s commitment to share 870M COVID-19 va..."
            ]
          },
          "metadata": {
            "tags": []
          },
          "execution_count": 33
        }
      ]
    },
    {
      "cell_type": "code",
      "metadata": {
        "colab": {
          "base_uri": "https://localhost:8080/",
          "height": 423
        },
        "id": "IplBPeLz34Cx",
        "outputId": "ec0a97c5-1f00-46a3-9e86-800cf7ef659e"
      },
      "source": [
        "#clean the text\n",
        "#create a functio to clean tweets\n",
        "def clean(text):\n",
        " text = re.sub(r'@[A-Za-z0-9]+', '',text) #reomve @mentions\n",
        " text=re.sub(r'#','',text)#remove hashtag\n",
        " text=re.sub(r'RT[\\s]+','',text) #remove rt\n",
        " text=re.sub(r'https?:\\/\\/\\S+','',text)#remove the hyperlink\n",
        " text=re.sub(r':',' ',text)\n",
        " return text\n",
        "\n",
        "#cleaning the test\n",
        "df['Tweets']=df['Tweets'].apply(clean)\n",
        "df"
      ],
      "execution_count": 36,
      "outputs": [
        {
          "output_type": "execute_result",
          "data": {
            "text/html": [
              "<div>\n",
              "<style scoped>\n",
              "    .dataframe tbody tr th:only-of-type {\n",
              "        vertical-align: middle;\n",
              "    }\n",
              "\n",
              "    .dataframe tbody tr th {\n",
              "        vertical-align: top;\n",
              "    }\n",
              "\n",
              "    .dataframe thead th {\n",
              "        text-align: right;\n",
              "    }\n",
              "</style>\n",
              "<table border=\"1\" class=\"dataframe\">\n",
              "  <thead>\n",
              "    <tr style=\"text-align: right;\">\n",
              "      <th></th>\n",
              "      <th>Tweets</th>\n",
              "    </tr>\n",
              "  </thead>\n",
              "  <tbody>\n",
              "    <tr>\n",
              "      <th>0</th>\n",
              "      <td>The persistence of countless Rotarians gives m...</td>\n",
              "    </tr>\n",
              "    <tr>\n",
              "      <th>1</th>\n",
              "      <td>I'm almost always interested in books about Am...</td>\n",
              "    </tr>\n",
              "    <tr>\n",
              "      <th>2</th>\n",
              "      <td>This book gave me a deeper, more nuanced appre...</td>\n",
              "    </tr>\n",
              "    <tr>\n",
              "      <th>3</th>\n",
              "      <td>If you’re looking for a good book to read this...</td>\n",
              "    </tr>\n",
              "    <tr>\n",
              "      <th>4</th>\n",
              "      <td>The ’s commitment to share 870M COVID-19 vacci...</td>\n",
              "    </tr>\n",
              "    <tr>\n",
              "      <th>...</th>\n",
              "      <td>...</td>\n",
              "    </tr>\n",
              "    <tr>\n",
              "      <th>95</th>\n",
              "      <td>After being sworn in this morning, I'm honor...</td>\n",
              "    </tr>\n",
              "    <tr>\n",
              "      <th>96</th>\n",
              "      <td>When it comes to preventing pandemics, scienti...</td>\n",
              "    </tr>\n",
              "    <tr>\n",
              "      <th>97</th>\n",
              "      <td>COVID-19 has cost lives, sickened millions, an...</td>\n",
              "    </tr>\n",
              "    <tr>\n",
              "      <th>98</th>\n",
              "      <td>This has been a year unlike any other in our l...</td>\n",
              "    </tr>\n",
              "    <tr>\n",
              "      <th>99</th>\n",
              "      <td>I believe that women can be the architects o...</td>\n",
              "    </tr>\n",
              "  </tbody>\n",
              "</table>\n",
              "<p>100 rows × 1 columns</p>\n",
              "</div>"
            ],
            "text/plain": [
              "                                               Tweets\n",
              "0   The persistence of countless Rotarians gives m...\n",
              "1   I'm almost always interested in books about Am...\n",
              "2   This book gave me a deeper, more nuanced appre...\n",
              "3   If you’re looking for a good book to read this...\n",
              "4   The ’s commitment to share 870M COVID-19 vacci...\n",
              "..                                                ...\n",
              "95    After being sworn in this morning, I'm honor...\n",
              "96  When it comes to preventing pandemics, scienti...\n",
              "97  COVID-19 has cost lives, sickened millions, an...\n",
              "98  This has been a year unlike any other in our l...\n",
              "99    I believe that women can be the architects o...\n",
              "\n",
              "[100 rows x 1 columns]"
            ]
          },
          "metadata": {
            "tags": []
          },
          "execution_count": 36
        }
      ]
    },
    {
      "cell_type": "code",
      "metadata": {
        "colab": {
          "base_uri": "https://localhost:8080/",
          "height": 423
        },
        "id": "TUMNbX6851zt",
        "outputId": "19c073d5-d8ea-4858-fb93-bb11f0fb7322"
      },
      "source": [
        "#create the function to get the subjectivity\n",
        "\n",
        "def getsub(text):\n",
        "  return TextBlob(text).sentiment.subjectivity\n",
        "\n",
        "  \n",
        "#create function to get polarity\n",
        "def getpol(text): \n",
        "  return TextBlob(text).sentiment.polarity\n",
        "\n",
        "#crete columns\n",
        "df['Subjectivity'] = df['Tweets'].apply(getsub)\n",
        "df['Polarity'] = df['Tweets'].apply(getpol)  \n",
        "\n",
        "\n",
        "#show the data frame with new coloumns\n",
        "df "
      ],
      "execution_count": 39,
      "outputs": [
        {
          "output_type": "execute_result",
          "data": {
            "text/html": [
              "<div>\n",
              "<style scoped>\n",
              "    .dataframe tbody tr th:only-of-type {\n",
              "        vertical-align: middle;\n",
              "    }\n",
              "\n",
              "    .dataframe tbody tr th {\n",
              "        vertical-align: top;\n",
              "    }\n",
              "\n",
              "    .dataframe thead th {\n",
              "        text-align: right;\n",
              "    }\n",
              "</style>\n",
              "<table border=\"1\" class=\"dataframe\">\n",
              "  <thead>\n",
              "    <tr style=\"text-align: right;\">\n",
              "      <th></th>\n",
              "      <th>Tweets</th>\n",
              "      <th>Subjectivity</th>\n",
              "      <th>Polarity</th>\n",
              "    </tr>\n",
              "  </thead>\n",
              "  <tbody>\n",
              "    <tr>\n",
              "      <th>0</th>\n",
              "      <td>The persistence of countless Rotarians gives m...</td>\n",
              "      <td>0.500000</td>\n",
              "      <td>0.000000</td>\n",
              "    </tr>\n",
              "    <tr>\n",
              "      <th>1</th>\n",
              "      <td>I'm almost always interested in books about Am...</td>\n",
              "      <td>0.670000</td>\n",
              "      <td>0.490000</td>\n",
              "    </tr>\n",
              "    <tr>\n",
              "      <th>2</th>\n",
              "      <td>This book gave me a deeper, more nuanced appre...</td>\n",
              "      <td>0.250000</td>\n",
              "      <td>0.250000</td>\n",
              "    </tr>\n",
              "    <tr>\n",
              "      <th>3</th>\n",
              "      <td>If you’re looking for a good book to read this...</td>\n",
              "      <td>0.600000</td>\n",
              "      <td>0.700000</td>\n",
              "    </tr>\n",
              "    <tr>\n",
              "      <th>4</th>\n",
              "      <td>The ’s commitment to share 870M COVID-19 vacci...</td>\n",
              "      <td>0.450000</td>\n",
              "      <td>0.400000</td>\n",
              "    </tr>\n",
              "    <tr>\n",
              "      <th>...</th>\n",
              "      <td>...</td>\n",
              "      <td>...</td>\n",
              "      <td>...</td>\n",
              "    </tr>\n",
              "    <tr>\n",
              "      <th>95</th>\n",
              "      <td>After being sworn in this morning, I'm honor...</td>\n",
              "      <td>0.000000</td>\n",
              "      <td>0.000000</td>\n",
              "    </tr>\n",
              "    <tr>\n",
              "      <th>96</th>\n",
              "      <td>When it comes to preventing pandemics, scienti...</td>\n",
              "      <td>0.321970</td>\n",
              "      <td>0.096591</td>\n",
              "    </tr>\n",
              "    <tr>\n",
              "      <th>97</th>\n",
              "      <td>COVID-19 has cost lives, sickened millions, an...</td>\n",
              "      <td>0.500000</td>\n",
              "      <td>-0.500000</td>\n",
              "    </tr>\n",
              "    <tr>\n",
              "      <th>98</th>\n",
              "      <td>This has been a year unlike any other in our l...</td>\n",
              "      <td>0.340909</td>\n",
              "      <td>0.102273</td>\n",
              "    </tr>\n",
              "    <tr>\n",
              "      <th>99</th>\n",
              "      <td>I believe that women can be the architects o...</td>\n",
              "      <td>0.500000</td>\n",
              "      <td>0.500000</td>\n",
              "    </tr>\n",
              "  </tbody>\n",
              "</table>\n",
              "<p>100 rows × 3 columns</p>\n",
              "</div>"
            ],
            "text/plain": [
              "                                               Tweets  Subjectivity  Polarity\n",
              "0   The persistence of countless Rotarians gives m...      0.500000  0.000000\n",
              "1   I'm almost always interested in books about Am...      0.670000  0.490000\n",
              "2   This book gave me a deeper, more nuanced appre...      0.250000  0.250000\n",
              "3   If you’re looking for a good book to read this...      0.600000  0.700000\n",
              "4   The ’s commitment to share 870M COVID-19 vacci...      0.450000  0.400000\n",
              "..                                                ...           ...       ...\n",
              "95    After being sworn in this morning, I'm honor...      0.000000  0.000000\n",
              "96  When it comes to preventing pandemics, scienti...      0.321970  0.096591\n",
              "97  COVID-19 has cost lives, sickened millions, an...      0.500000 -0.500000\n",
              "98  This has been a year unlike any other in our l...      0.340909  0.102273\n",
              "99    I believe that women can be the architects o...      0.500000  0.500000\n",
              "\n",
              "[100 rows x 3 columns]"
            ]
          },
          "metadata": {
            "tags": []
          },
          "execution_count": 39
        }
      ]
    },
    {
      "cell_type": "code",
      "metadata": {
        "colab": {
          "base_uri": "https://localhost:8080/",
          "height": 248
        },
        "id": "TkA4c7ALDRgt",
        "outputId": "c8ace737-bafa-4d0a-9401-779b9e5e70c3"
      },
      "source": [
        "# world cloud plotting\n",
        "allword = ' '.join([twts for twts in df['Tweets']])\n",
        "wordCloud=WordCloud(width=1000,height=1000,random_state=21,max_font_size=160).generate(allword)\n",
        "plt.imshow(wordCloud,interpolation=\"bilinear\")\n",
        "plt.axis('off')\n",
        "plt.show()"
      ],
      "execution_count": 44,
      "outputs": [
        {
          "output_type": "display_data",
          "data": {
            "image/png": "[encoded data removed]",
            "text/plain": [
              "<Figure size 432x288 with 1 Axes>"
            ]
          },
          "metadata": {
            "tags": [],
            "needs_background": "light"
          }
        }
      ]
    },
    {
      "cell_type": "code",
      "metadata": {
        "colab": {
          "base_uri": "https://localhost:8080/",
          "height": 423
        },
        "id": "XitMVyiKFJI8",
        "outputId": "d84891c5-b609-4577-c32b-f534fe9d9ad5"
      },
      "source": [
        "#create a  function to compute the negative neutral and positive analysis.\n",
        "def getana(score):\n",
        "  if score<0:\n",
        "    return 'Negative'\n",
        "  elif score==0:\n",
        "    return 'Neutral'\n",
        "  else:\n",
        "    return 'Positive'\n",
        "\n",
        "df['Analysis'] = df['Polarity'].apply(getana)\n",
        "df    "
      ],
      "execution_count": 46,
      "outputs": [
        {
          "output_type": "execute_result",
          "data": {
            "text/html": [
              "<div>\n",
              "<style scoped>\n",
              "    .dataframe tbody tr th:only-of-type {\n",
              "        vertical-align: middle;\n",
              "    }\n",
              "\n",
              "    .dataframe tbody tr th {\n",
              "        vertical-align: top;\n",
              "    }\n",
              "\n",
              "    .dataframe thead th {\n",
              "        text-align: right;\n",
              "    }\n",
              "</style>\n",
              "<table border=\"1\" class=\"dataframe\">\n",
              "  <thead>\n",
              "    <tr style=\"text-align: right;\">\n",
              "      <th></th>\n",
              "      <th>Tweets</th>\n",
              "      <th>Subjectivity</th>\n",
              "      <th>Polarity</th>\n",
              "      <th>Analysis</th>\n",
              "    </tr>\n",
              "  </thead>\n",
              "  <tbody>\n",
              "    <tr>\n",
              "      <th>0</th>\n",
              "      <td>The persistence of countless Rotarians gives m...</td>\n",
              "      <td>0.500000</td>\n",
              "      <td>0.000000</td>\n",
              "      <td>Neutral</td>\n",
              "    </tr>\n",
              "    <tr>\n",
              "      <th>1</th>\n",
              "      <td>I'm almost always interested in books about Am...</td>\n",
              "      <td>0.670000</td>\n",
              "      <td>0.490000</td>\n",
              "      <td>Positive</td>\n",
              "    </tr>\n",
              "    <tr>\n",
              "      <th>2</th>\n",
              "      <td>This book gave me a deeper, more nuanced appre...</td>\n",
              "      <td>0.250000</td>\n",
              "      <td>0.250000</td>\n",
              "      <td>Positive</td>\n",
              "    </tr>\n",
              "    <tr>\n",
              "      <th>3</th>\n",
              "      <td>If you’re looking for a good book to read this...</td>\n",
              "      <td>0.600000</td>\n",
              "      <td>0.700000</td>\n",
              "      <td>Positive</td>\n",
              "    </tr>\n",
              "    <tr>\n",
              "      <th>4</th>\n",
              "      <td>The ’s commitment to share 870M COVID-19 vacci...</td>\n",
              "      <td>0.450000</td>\n",
              "      <td>0.400000</td>\n",
              "      <td>Positive</td>\n",
              "    </tr>\n",
              "    <tr>\n",
              "      <th>...</th>\n",
              "      <td>...</td>\n",
              "      <td>...</td>\n",
              "      <td>...</td>\n",
              "      <td>...</td>\n",
              "    </tr>\n",
              "    <tr>\n",
              "      <th>95</th>\n",
              "      <td>After being sworn in this morning, I'm honor...</td>\n",
              "      <td>0.000000</td>\n",
              "      <td>0.000000</td>\n",
              "      <td>Neutral</td>\n",
              "    </tr>\n",
              "    <tr>\n",
              "      <th>96</th>\n",
              "      <td>When it comes to preventing pandemics, scienti...</td>\n",
              "      <td>0.321970</td>\n",
              "      <td>0.096591</td>\n",
              "      <td>Positive</td>\n",
              "    </tr>\n",
              "    <tr>\n",
              "      <th>97</th>\n",
              "      <td>COVID-19 has cost lives, sickened millions, an...</td>\n",
              "      <td>0.500000</td>\n",
              "      <td>-0.500000</td>\n",
              "      <td>Negative</td>\n",
              "    </tr>\n",
              "    <tr>\n",
              "      <th>98</th>\n",
              "      <td>This has been a year unlike any other in our l...</td>\n",
              "      <td>0.340909</td>\n",
              "      <td>0.102273</td>\n",
              "      <td>Positive</td>\n",
              "    </tr>\n",
              "    <tr>\n",
              "      <th>99</th>\n",
              "      <td>I believe that women can be the architects o...</td>\n",
              "      <td>0.500000</td>\n",
              "      <td>0.500000</td>\n",
              "      <td>Positive</td>\n",
              "    </tr>\n",
              "  </tbody>\n",
              "</table>\n",
              "<p>100 rows × 4 columns</p>\n",
              "</div>"
            ],
            "text/plain": [
              "                                               Tweets  ...  Analysis\n",
              "0   The persistence of countless Rotarians gives m...  ...   Neutral\n",
              "1   I'm almost always interested in books about Am...  ...  Positive\n",
              "2   This book gave me a deeper, more nuanced appre...  ...  Positive\n",
              "3   If you’re looking for a good book to read this...  ...  Positive\n",
              "4   The ’s commitment to share 870M COVID-19 vacci...  ...  Positive\n",
              "..                                                ...  ...       ...\n",
              "95    After being sworn in this morning, I'm honor...  ...   Neutral\n",
              "96  When it comes to preventing pandemics, scienti...  ...  Positive\n",
              "97  COVID-19 has cost lives, sickened millions, an...  ...  Negative\n",
              "98  This has been a year unlike any other in our l...  ...  Positive\n",
              "99    I believe that women can be the architects o...  ...  Positive\n",
              "\n",
              "[100 rows x 4 columns]"
            ]
          },
          "metadata": {
            "tags": []
          },
          "execution_count": 46
        }
      ]
    },
    {
      "cell_type": "code",
      "metadata": {
        "colab": {
          "base_uri": "https://localhost:8080/"
        },
        "id": "l8EnzHErK3jW",
        "outputId": "fb65aecf-f263-4ca0-afc3-1f6f51171db3"
      },
      "source": [
        "#print all positive tweets\n",
        "\n",
        "j=1\n",
        "sortedDF=df.sort_values(by=['Polarity'])\n",
        "for i in range(0,sortedDF.shape[0]):\n",
        "  if (sortedDF['Analysis'][i]=='Positive'):\n",
        "    print(str(j) + ')' +sortedDF['Tweets'][i])\n",
        "    print()\n",
        "    j=j+1"
      ],
      "execution_count": 50,
      "outputs": [
        {
          "output_type": "stream",
          "text": [
            "1)I'm almost always interested in books about American presidents, and I especially loved A Promised Land. It’s a fascinating look at what it’s like to steer a country through challenging times. \n",
            "\n",
            "2)This book gave me a deeper, more nuanced appreciation for the system that is at the core of humanity’s fight against COVID-19 and everything our foundation’s Global Health program is trying to do. \n",
            "\n",
            "3)If you’re looking for a good book to read this summer, these are some of my favorites. \n",
            "\n",
            "4)The ’s commitment to share 870M COVID-19 vaccine doses over the next year is welcome news - but time is not on our side. Vaccines must be delivered now to help control the pandemic everywhere and not disrupt the progress we've made. \n",
            "\n",
            "5)  As a physician, I’ve seen too many colleagues make the ultimate sacrifice on the frontlines. Over 115,000 health and care w…\n",
            "\n",
            "6)Polio tools and infrastructure are also critical to combatting other public health emergencies, like COVID-19. It is more important than ever that donors and countries commit to the new GPEI strategy to endpolio and continue improving health for all. \n",
            "\n",
            "7)These young leaders make me optimistic that brighter days are ahead for America’s students and teachers. \n",
            "\n",
            "8)Against the odds,  became a doctor and is helping his country recover from civil war, Ebola, and now COVID-19. This doctor’s life story is almost as remarkable as his work. \n",
            "\n",
            "9)This is an important step in the U.S. clean energy transition. I’m excited to see  working with , , and  to bring this project to life with the workforce of Wyoming. \n",
            "\n",
            "10)Heroes like Dr. Mohamed Barrie are the reason we started our foundation more than 20 years ago and why Melinda and I remain committed to its work. Mohamed’s story is truly inspiring, and I can’t wait to see what he and his team will accomplish next. \n",
            "\n",
            "11)  Promising news from the  COVAX AMC Summit as they have exceeded today’s fundraising target. This means more people in lo…\n",
            "\n",
            "12)The pandemic has exacerbated existing racial health inequities in the United States. The Health Equity Tracker is a new tool bringing visibility to disparities in U.S. medicine. \n",
            "\n",
            "13)  As our CEO  says, no barriers should stand in the way of equitable access to vaccines. We are supportive of a…\n",
            "\n",
            "14)  The , an unprecedented global alliance to develop &amp; deliver the tests, treatments &amp; vaccines the 🌐 needs to fight …\n",
            "\n",
            "15)Ambitious short-term goals like this are critical to moving closer to a net-zero future. As we rapidly scale the solutions we have, we must also invest in innovation to reach our ultimate goals. Thank you  for your leadership. \n",
            "\n",
            "16)It’s encouraging to see  Biden and  Kerry re-establish America’s leading role on climate change. I look forward to joining leaders from around the world to talk about some of the most important challenges we need to overcome to avoid a climate disaster. \n",
            "\n",
            "17)Yesterday's verdict was a step in the right direction. But one court ruling alone will not bring to an end the injustice and inequity that Black people experience daily.  I hope we will continue to make real progress on this.\n",
            "\n",
            "18)“Time” is a poetic portrait of a family who love and support each other despite their difficult circumstances. I can’t recommend it highly enough. \n",
            "\n",
            "19)If “Time” wins the Oscar this year, it will be the first documentary directed by a Black woman to do so. Garrett Bradley’s talent makes her worthy of that milestone. This is one of the most intimate movies I have ever seen. itsTIME \n",
            "\n",
            "20)  In February, Ghana became the first African country to receive vaccines through COVAX. Meet one of the nurses spearheading the v…\n",
            "\n",
            "21)To get to net-zero emissions globally by 2050, leaders from around the world must work together. It’s encouraging to see governments, business leaders, and financial institutions committing to a successful COP26 in Glasgow later this year. \n",
            "\n",
            "22)The amount of cement China has consumed is a staggering statistic and reminder of how much emissions have grown in low- and middle-income countries. (Minecraft concrete doesn’t count, though server farms are responsible for a lot of emissions.)  \n",
            "\n",
            "23)Who installed the most concrete?\n",
            "\n",
            "Check your answer  \n",
            "\n",
            "24)The best way to prevent new variants from emerging is by stopping transmission of the virus altogether   \n",
            "\n",
            "25)It's encouraging to see innovation and clean energy investments at the forefront of 's AmericanJobsPlan. Building markets for new energy technologies is good for jobs today and will build the economies we need while avoiding a climate disaster. \n",
            "\n",
            "26)The technological transformation we need to address climate change can create good, safe jobs and build a more equitable, prosperous economy. To make that happen, we need to think big   \n",
            "\n",
            "27)I had a great time answering questions about my new book, climate change, and COVID-19 on  last week. Here’s a recap of the conversation. \n",
            "\n",
            "28)In this video, I answered some really good questions, including one about two really important numbers. Come ask me some questions of your own on  at 11 15   \n",
            "\n",
            "29)I named my book “How to Avoid a Climate Disaster,” not “How to Stop Climate Change,” because our climate is already changing—and no one will be hurt more by climate change than the world’s poorest people. Here's how we can help them adapt. \n",
            "\n",
            "30)Congratulations  on this important role. I’m excited to see what you and the Earth Fund will achieve. Avoiding a climate disaster is going to take all of us, and I’m grateful for ’s leadership and partnership. \n",
            "\n",
            "31)Thank you  for a great conversation about climate change and thanks to  and  for hosting the event. \n",
            "\n",
            "32)Virologist Ruth Bishop pioneered the research that led to the discovery of rotavirus. Her legacy continues both as a role model for other researchers and in the millions of children’s lives that have been saved because of her heroic work   IWD2021 \n",
            "\n",
            "33)  On International Women’s Day, join me in celebrating some of the inspiring women who made COVID19 vaccines possible. Know…\n",
            "\n",
            "34)Thank you  for the kind words. Your leadership at the 2015 Paris climate conference helped prove that global cooperation on climate is possible and gives me hope that we can reach our goal of zero emissions. \n",
            "\n",
            "35)Moving to a green economy is the biggest challenge the world has ever faced. I’m optimistic we can do it, but need to make sure it benefits everyone—including those workers and communities who depend on the fossil fuels that we need to get rid of. \n",
            "\n",
            "36)We can’t avoid a climate disaster without corporate leaders making courageous decisions now. I hope to work with  on building the markets for the clean technologies the world needs. Thank you for the kind words, Herbert. \n",
            "\n",
            "37)Delivering vaccines to those who need them most, no matter where they live or how much money they have, is the only way to end the pandemic and begin the recovery. This is an important milestone. \n",
            "\n",
            "38)_H2020    To get to net zero, we need innovation to replace fossil fuels in everyday products like plastics.  is one of the many companies leading on this important work.\n",
            "\n",
            "39)We're fortunate to have an Energy Secretary who's focused on creating high-quality jobs to build a clean energy economy. I look forward to working with  on clean tech innovation and deployment. \n",
            "\n",
            "40)Thanks  and  for a great conversation about how we can avoid a climate disaster. \n",
            "\n",
            "41)I’m looking forward to joining  to talk about climate change, our foundation’s work in response to the pandemic, and more. \n",
            "\n",
            "42)It’s encouraging to have  John Kerry representing the U.S. to the world. Now that we've rejoined the Paris Climate Agreement, it's going to take ambitious action from U.S. leaders and those around the globe to avoid a climate disaster. \n",
            "\n",
            "43)Thanks  and  for having me on the show to talk about climate change and COVID-19 – two urgent global issues that need global collaboration. \n",
            "\n",
            "44)  I always have fun talking to . Thanks for inviting me to talk about climate change and my new book.\n",
            "\n",
            "45)  I’m grateful for new commitments from the EU, Germany, Canada, Japan, and the U.S. to help make safe and effective COVID-…\n",
            "\n",
            "46)I’m inspired by ’s activism and humanitarian work. Thanks to  and  for hosting our discussion about climate change and how everyone can help. \n",
            "\n",
            "47) Thanks  for talking with me about this challenge and why we need to act now.\n",
            "\n",
            "48)Meaningful action from business leaders will require the courage to take risks that many companies aren't used to taking. \n",
            "\n",
            "49)Thanks to , , and everyone who joined our virtual conversation about climate change. Great to have so much support from my hometown for this important work. \n",
            "\n",
            "50)Great to see this important step as the United States resumes our global leadership on climate change. Looking forward to working with  and Congress on a plan to ensure we reach net zero by 2050. \n",
            "\n",
            "51)Thanks to  for hosting the launch of my virtual book tour. It was great to hear so many thoughtful questions about what we can all do to help avoid a climate disaster.\n",
            "\n",
            "52)  Bill Gates on Climate Change, Covid and Whether He Has Too Much Influence \n",
            "\n",
            "53)Thanks for inviting me on the podcast, . \n",
            "\n",
            "54)Thank you, _RDG. We have a lot of work ahead of us to reach net-zero emissions by 2050 and avoid a climate disaster. Your leadership of COP26 is critical. Thanks also to ,  and  for hosting the London stop of my virtual book tour! \n",
            "\n",
            "55)It was great to talk with  about my new book and the solutions we need to fight climate change. \n",
            "\n",
            "56)  Thank you  for inviting me to talk about climate change. Solving it won’t be easy, but I believe we can do it.\n",
            "\n",
            "57)Thanks for another great conversation ! \n",
            "\n",
            "58) Thanks for inviting me to be a guest editor. We need every business leader and every industry to play a role in the fight against climate change.\n",
            "\n",
            "59)I had a great time working with  on this special digital issue about climate change. The entire business community has a role to play—and we need to start now. \n",
            "\n",
            "60)How to Avoid a Climate Disaster is available now. I hope you’ll check out the book, but more importantly, I hope you’ll do what you can to help keep the planet livable for generations to come   \n",
            "\n",
            "61)  In a digital cover story, we talked to  about his new book, \"How to Avoid a Climate Disaster.\" \n",
            "\n",
            "62)To avoid a climate disaster, we need to eliminate emissions from the ways we create electricity, grow food, make things, move around, and heat and cool our buildings. It won’t be easy, but I believe we can do it. This book is about what it will take. \n",
            "\n",
            "63)I enjoyed spending time with  recently in Seattle. We talked about why I’m optimistic that the world can get to zero greenhouse gas emissions and avoid a climate disaster   \n",
            "\n",
            "64)I’m thrilled to join , _RDG, , , , , ,  and Monica Padman, Sal Khan, and Ariel Bissett to discuss how the world can work to avoid a climate disaster   \n",
            "\n",
            "65)When it comes to preventing pandemics, scientific tools alone aren’t enough. We also need new capabilities, including a global alert system and infectious disease first responders (or what I like to call a pandemic fire squad)   \n",
            "\n",
            "66)This has been a year unlike any other in our lifetimes. In our new Annual Letter, Melinda and I talk about how we can turn the hard-won lessons of the pandemic into a healthier, more equal future for all. \n",
            "\n",
            "67)  I believe that women can be the architects of a better world. \n",
            "\n",
            "Their stories have instilled in me both a sense of urgenc…\n",
            "\n"
          ],
          "name": "stdout"
        }
      ]
    },
    {
      "cell_type": "code",
      "metadata": {
        "colab": {
          "base_uri": "https://localhost:8080/"
        },
        "id": "9r5JlV-cL9g8",
        "outputId": "7271a88e-35db-411f-8abb-d4652906cf11"
      },
      "source": [
        "#print negtive tweets\n",
        "j=1\n",
        "sortedDF=df.sort_values(by=['Polarity'],ascending='False')\n",
        "for i in range(0,sortedDF.shape[0]):\n",
        "  if (sortedDF['Analysis'][i]=='Negative'):\n",
        "    print(str(j) + ')' +sortedDF['Tweets'][i])\n",
        "    print()\n",
        "    j=j+1"
      ],
      "execution_count": 51,
      "outputs": [
        {
          "output_type": "stream",
          "text": [
            "1)Communities of color have been hit hard by COVID-19. One of the reasons why parts of the medical system often fail Black and brown people is because it’s not designed with them in mind. Dr. Stephaun Wallace wants to change that. \n",
            "\n",
            "2)Dr. Stephaun Wallace () has spent the last year helping make COVID-19 vaccines work for everybody. Stephaun and his colleagues at  are working to reach the people who are usually left behind. \n",
            "\n",
            "3)It’s deeply unfair that the people who contribute the least to climate change will suffer the worst from its effects   \n",
            "\n",
            "4)  Over the past few weeks health workers in Ethiopia 🇪🇹, Nigeria 🇳🇬, Sudan 🇸🇩 and the Philippines 🇵🇭 were vaccinated against COVI…\n",
            "\n",
            "5)For decades, Australian researcher Ruth Bishop led global efforts to identify and combat rotavirus. Her life is a reminder of the importance of scientific research to uncover unknown pathogens and the power of vaccines to prevent suffering and save lives. \n",
            "\n",
            "6)  Black folks have questions about the COVID-19 vaccine. I sat down w/ Black healthcare workers &amp; they answered my questions.…\n",
            "\n",
            "7)Recent extreme weather events are a stark reminder that we’re already seeing the effects of climate change here at home and around the world. This type of observation system will help scientists monitor and predict future weather events. \n",
            "\n",
            "8)There are several ways individuals can help move us closer to a zero-carbon future. Here are a few   \n",
            "\n",
            "9)  The Weekly Planet  Lately, Bill Gates has been thinking about what he calls the “hard stuff” of climate change. These hard…\n",
            "\n",
            "10)  \"People who think a plan is easy are wrong. People who think a plan is impossible are wrong. It's super hard and very broad,…\n",
            "\n",
            "11)  Only 3% of Black students learn computer science in high school or beyond. Please watch and share this video. Inspire a studen…\n",
            "\n",
            "12)COVID-19 has cost lives, sickened millions, and thrust the global economy into a devastating recession. But hope is on the horizon   \n",
            "\n"
          ],
          "name": "stdout"
        }
      ]
    },
    {
      "cell_type": "code",
      "metadata": {
        "colab": {
          "base_uri": "https://localhost:8080/",
          "height": 404
        },
        "id": "y6WFSBPqM_b3",
        "outputId": "42f56318-986f-4651-f130-d505a82bf9fe"
      },
      "source": [
        "#plot the polarity and subjectivity\n",
        "plt.figure(figsize=(8,6))\n",
        "for i in range(0,df.shape[0]):\n",
        "  plt.scatter(df['Polarity'][i],df['Subjectivity'][i],color='Blue')\n",
        "plt.title('Sentimental Analysis')\n",
        "plt.xlabel('Polarity')\n",
        "plt.ylabel('Subjectivity')\n",
        "plt.show()"
      ],
      "execution_count": 55,
      "outputs": [
        {
          "output_type": "display_data",
          "data": {
            "image/png": "[encoded data removed]",
            "text/plain": [
              "<Figure size 576x432 with 1 Axes>"
            ]
          },
          "metadata": {
            "tags": [],
            "needs_background": "light"
          }
        }
      ]
    },
    {
      "cell_type": "code",
      "metadata": {
        "colab": {
          "base_uri": "https://localhost:8080/"
        },
        "id": "0_z2I6fySheT",
        "outputId": "d9a1fcaf-1d08-4183-f6a7-32877faf6cef"
      },
      "source": [
        "#get percentage of positve tweets.\n",
        "\n",
        "\n",
        "ptweets = df[df.Analysis=='Positive']\n",
        "ptweets = ptweets['Tweets']\n",
        "round((ptweets.shape[0]/df.shape[0])*100,1)"
      ],
      "execution_count": 57,
      "outputs": [
        {
          "output_type": "execute_result",
          "data": {
            "text/plain": [
              "67.0"
            ]
          },
          "metadata": {
            "tags": []
          },
          "execution_count": 57
        }
      ]
    },
    {
      "cell_type": "code",
      "metadata": {
        "colab": {
          "base_uri": "https://localhost:8080/"
        },
        "id": "fjdnmp_sTntq",
        "outputId": "e624bd3b-b9f4-403b-a222-6e58b5ec9adc"
      },
      "source": [
        "#get the percentage of negative tweets\n",
        "ntweets = df[df.Analysis=='Negative']\n",
        "ntweets = ntweets['Tweets']\n",
        "round((ntweets.shape[0]/df.shape[0])*100,1)"
      ],
      "execution_count": 58,
      "outputs": [
        {
          "output_type": "execute_result",
          "data": {
            "text/plain": [
              "12.0"
            ]
          },
          "metadata": {
            "tags": []
          },
          "execution_count": 58
        }
      ]
    },
    {
      "cell_type": "code",
      "metadata": {
        "colab": {
          "base_uri": "https://localhost:8080/",
          "height": 264
        },
        "id": "BEmdCawrVMeZ",
        "outputId": "975513d0-cdce-4416-d986-1472fcc559cf"
      },
      "source": [
        "#show the value counts\n",
        "\n",
        "\n",
        "df['Analysis'].value_counts()\n",
        "plt.title('Sentiments Analysis')\n",
        "plt.ylabel('Counts')\n",
        "df['Analysis'].value_counts().plot(kind='pie')\n",
        "plt.show()"
      ],
      "execution_count": 61,
      "outputs": [
        {
          "output_type": "display_data",
          "data": {
            "image/png": "[encoded data removed]",
            "text/plain": [
              "<Figure size 432x288 with 1 Axes>"
            ]
          },
          "metadata": {
            "tags": []
          }
        }
      ]
    },
    {
      "cell_type": "code",
      "metadata": {
        "id": "-6CSx1V7VuHM"
      },
      "source": [
        ""
      ],
      "execution_count": null,
      "outputs": []
    }
  ]
}